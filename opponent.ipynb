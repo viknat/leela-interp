{
 "cells": [
  {
   "cell_type": "code",
   "execution_count": 1,
   "metadata": {},
   "outputs": [],
   "source": [
    "import sys\n",
    "sys.path.append('/Users/vikram/projects/leela-interp/src')"
   ]
  },
  {
   "cell_type": "code",
   "execution_count": 2,
   "metadata": {},
   "outputs": [
    {
     "name": "stdout",
     "output_type": "stream",
     "text": [
      "Intel MKL WARNING: Support of Intel(R) Streaming SIMD Extensions 4.2 (Intel(R) SSE4.2) enabled only processors has been deprecated. Intel oneAPI Math Kernel Library 2025.0 will require Intel(R) Advanced Vector Extensions (Intel(R) AVX) instructions.\n",
      "Intel MKL WARNING: Support of Intel(R) Streaming SIMD Extensions 4.2 (Intel(R) SSE4.2) enabled only processors has been deprecated. Intel oneAPI Math Kernel Library 2025.0 will require Intel(R) Advanced Vector Extensions (Intel(R) AVX) instructions.\n"
     ]
    }
   ],
   "source": [
    "import itertools\n",
    "import pickle\n",
    "\n",
    "import torch\n",
    "from leela_interp import Lc0sight, LeelaBoard\n",
    "from leela_interp.tools.attention import attention_attribution, top_k_attributions\n",
    "from leela_interp.tools.patching import activation_patch"
   ]
  },
  {
   "cell_type": "code",
   "execution_count": 3,
   "metadata": {},
   "outputs": [
    {
     "name": "stdout",
     "output_type": "stream",
     "text": [
      "25877437.zip            interesting_puzzles.pkl opponent.ipynb\n",
      "LD2.onnx                lc0-random.onnx         pyproject.toml\n",
      "LICENSE                 lc0.onnx                \u001b[34mscripts\u001b[m\u001b[m\n",
      "README.md               \u001b[34mnotebooks\u001b[m\u001b[m               \u001b[34msrc\u001b[m\u001b[m\n",
      "__init__.py             opponent-Copy1.ipynb    unfiltered_puzzles.pkl\n"
     ]
    }
   ],
   "source": [
    "!ls"
   ]
  },
  {
   "cell_type": "code",
   "execution_count": 4,
   "metadata": {},
   "outputs": [
    {
     "name": "stdout",
     "output_type": "stream",
     "text": [
      "Using device: cpu\n"
     ]
    }
   ],
   "source": [
    "device = torch.device(\"cuda\" if torch.cuda.is_available() else \"cpu\")\n",
    "model = Lc0sight(\"lc0.onnx\", device=device)"
   ]
  },
  {
   "cell_type": "code",
   "execution_count": 5,
   "metadata": {},
   "outputs": [
    {
     "data": {
      "text/plain": [
       "22517"
      ]
     },
     "execution_count": 5,
     "metadata": {},
     "output_type": "execute_result"
    }
   ],
   "source": [
    "with open(\"interesting_puzzles.pkl\", \"rb\") as f:\n",
    "    puzzles = pickle.load(f)\n",
    "len(puzzles)"
   ]
  },
  {
   "cell_type": "code",
   "execution_count": 12,
   "metadata": {},
   "outputs": [],
   "source": [
    "def find_sacrifice_puzzles(puzzle):\n",
    "    moves_to_play = [move for i, move in enumerate(puzzle.principal_variation) if i % 2 == 0] \n",
    "    squares_to_play_on = [x[2:4] for x in moves_to_play]\n",
    "    return all(x == squares_to_play_on[0] for x in squares_to_play_on)\n",
    "\n",
    "sacrifice_puzzles_idx = puzzles.apply(find_sacrifice_puzzles, axis=1)\n",
    "sacrifice_puzzles = puzzles[sacrifice_puzzles_idx]"
   ]
  },
  {
   "cell_type": "code",
   "execution_count": 13,
   "metadata": {},
   "outputs": [
    {
     "data": {
      "text/html": [
       "<div>\n",
       "<style scoped>\n",
       "    .dataframe tbody tr th:only-of-type {\n",
       "        vertical-align: middle;\n",
       "    }\n",
       "\n",
       "    .dataframe tbody tr th {\n",
       "        vertical-align: top;\n",
       "    }\n",
       "\n",
       "    .dataframe thead th {\n",
       "        text-align: right;\n",
       "    }\n",
       "</style>\n",
       "<table border=\"1\" class=\"dataframe\">\n",
       "  <thead>\n",
       "    <tr style=\"text-align: right;\">\n",
       "      <th></th>\n",
       "      <th>PuzzleId</th>\n",
       "      <th>FEN</th>\n",
       "      <th>Moves</th>\n",
       "      <th>Rating</th>\n",
       "      <th>RatingDeviation</th>\n",
       "      <th>Popularity</th>\n",
       "      <th>NbPlays</th>\n",
       "      <th>Themes</th>\n",
       "      <th>GameUrl</th>\n",
       "      <th>OpeningTags</th>\n",
       "      <th>principal_variation</th>\n",
       "      <th>full_pv_probs</th>\n",
       "      <th>full_model_moves</th>\n",
       "      <th>full_wdl</th>\n",
       "      <th>sparring_full_pv_probs</th>\n",
       "      <th>sparring_full_model_moves</th>\n",
       "      <th>sparring_wdl</th>\n",
       "      <th>different_targets</th>\n",
       "      <th>corrupted_fen</th>\n",
       "    </tr>\n",
       "  </thead>\n",
       "  <tbody>\n",
       "    <tr>\n",
       "      <th>182</th>\n",
       "      <td>00Bg4</td>\n",
       "      <td>3r2k1/1q3ppp/p2rp3/Qp1B4/7P/P4P2/1PP3P1/1K1R3R...</td>\n",
       "      <td>d6d5 a5d8 d5d8 d1d8</td>\n",
       "      <td>1374</td>\n",
       "      <td>85</td>\n",
       "      <td>75</td>\n",
       "      <td>303</td>\n",
       "      <td>backRankMate endgame mate mateIn2 short xRayAt...</td>\n",
       "      <td>https://lichess.org/6qWf8wOP/black#41</td>\n",
       "      <td>NaN</td>\n",
       "      <td>[a5d8, d5d8, d1d8]</td>\n",
       "      <td>[0.9316630959510803, 1.0, 0.9474834203720093]</td>\n",
       "      <td>[a5d8, d5d8, d1d8]</td>\n",
       "      <td>[0.9491999745368958, 0.04444213956594467, 0.00...</td>\n",
       "      <td>[0.008508995175361633, 1.0, 0.772297203540802]</td>\n",
       "      <td>[d1d5, d5d8, d1d8]</td>\n",
       "      <td>[0.007286431733518839, 0.983742892742157, 0.00...</td>\n",
       "      <td>False</td>\n",
       "      <td>3r4/1q3ppp/p3p3/Qp1r4/5k1P/P4P2/1PP3P1/1K1R3R ...</td>\n",
       "    </tr>\n",
       "    <tr>\n",
       "      <th>477</th>\n",
       "      <td>00TU2</td>\n",
       "      <td>1k1r4/1p3Qp1/p2q3p/3N4/1b6/8/PP3PPP/2R3K1 w - ...</td>\n",
       "      <td>d5b4 d6d1 c1d1 d8d1</td>\n",
       "      <td>561</td>\n",
       "      <td>81</td>\n",
       "      <td>99</td>\n",
       "      <td>1081</td>\n",
       "      <td>backRankMate endgame mate mateIn2 sacrifice short</td>\n",
       "      <td>https://lichess.org/p32396Rd#42</td>\n",
       "      <td>NaN</td>\n",
       "      <td>[d6d1, c1d1, d8d1]</td>\n",
       "      <td>[0.9027991890907288, 1.0, 0.9316168427467346]</td>\n",
       "      <td>[d6d1, c1d1, d8d1]</td>\n",
       "      <td>[0.6312634944915771, 0.21408513188362122, 0.15...</td>\n",
       "      <td>[0.019247423857450485, 1.0, 0.33872464299201965]</td>\n",
       "      <td>[d6b4, c1d1, d8d1]</td>\n",
       "      <td>[0.0008122252183966339, 0.996202290058136, 0.0...</td>\n",
       "      <td>False</td>\n",
       "      <td>1k1r4/1p3Qp1/p2q3p/8/1N6/8/PP3PPP/K1R5 b - - 0 22</td>\n",
       "    </tr>\n",
       "    <tr>\n",
       "      <th>596</th>\n",
       "      <td>00aBq</td>\n",
       "      <td>r2r2k1/pp3ppp/1qn2b2/3R4/4QB2/1P3N2/P4PPP/4R1K...</td>\n",
       "      <td>d8d5 e4e8 a8e8 e1e8</td>\n",
       "      <td>927</td>\n",
       "      <td>83</td>\n",
       "      <td>88</td>\n",
       "      <td>315</td>\n",
       "      <td>backRankMate mate mateIn2 middlegame sacrifice...</td>\n",
       "      <td>https://lichess.org/0AybhVJm/black#35</td>\n",
       "      <td>Queens_Pawn_Game Queens_Pawn_Game_London_System</td>\n",
       "      <td>[e4e8, a8e8, e1e8]</td>\n",
       "      <td>[0.8980200290679932, 1.0, 0.7761741876602173]</td>\n",
       "      <td>[e4e8, a8e8, e1e8]</td>\n",
       "      <td>[0.9844181537628174, 0.014828264713287354, 0.0...</td>\n",
       "      <td>[0.008638557977974415, 1.0, 0.15357662737369537]</td>\n",
       "      <td>[e4d5, a8e8, e1e8]</td>\n",
       "      <td>[0.004472474101930857, 0.9796410799026489, 0.0...</td>\n",
       "      <td>False</td>\n",
       "      <td>r1q3k1/pp3ppp/2n2b2/3r4/4QB2/1P3N2/P4PPP/4R1K1...</td>\n",
       "    </tr>\n",
       "    <tr>\n",
       "      <th>856</th>\n",
       "      <td>00qMd</td>\n",
       "      <td>4r1kb/3q1p1p/1p1p1PpB/p2P4/2Pp4/6Q1/1P4PP/5RK1...</td>\n",
       "      <td>e8e3 h6e3 d4e3 g3e3</td>\n",
       "      <td>1610</td>\n",
       "      <td>75</td>\n",
       "      <td>83</td>\n",
       "      <td>115</td>\n",
       "      <td>crushing endgame short</td>\n",
       "      <td>https://lichess.org/Q8kfKCl5/black#51</td>\n",
       "      <td>NaN</td>\n",
       "      <td>[h6e3, d4e3, g3e3]</td>\n",
       "      <td>[0.9296777844429016, 0.8816071152687073, 0.906...</td>\n",
       "      <td>[h6e3, d4e3, g3e3]</td>\n",
       "      <td>[0.9488192796707153, 0.044057901948690414, 0.0...</td>\n",
       "      <td>[0.017292404547333717, 0.8276771306991577, 0.5...</td>\n",
       "      <td>[g3f4, d4e3, g3e3]</td>\n",
       "      <td>[0.018963830545544624, 0.9749616384506226, 0.0...</td>\n",
       "      <td>False</td>\n",
       "      <td>6k1/3q1p1p/1p1p1PpB/p2P4/2Pp4/4r1Q1/1P4PP/2b2R...</td>\n",
       "    </tr>\n",
       "    <tr>\n",
       "      <th>863</th>\n",
       "      <td>00r1D</td>\n",
       "      <td>r4k1r/p3nppp/3Qp1b1/8/B7/P1q5/2P2PPP/3R1RK1 b ...</td>\n",
       "      <td>g6c2 d6d8 a8d8 d1d8</td>\n",
       "      <td>1408</td>\n",
       "      <td>94</td>\n",
       "      <td>59</td>\n",
       "      <td>44</td>\n",
       "      <td>backRankMate mate mateIn2 middlegame sacrifice...</td>\n",
       "      <td>https://lichess.org/nb7Z1HHv/black#35</td>\n",
       "      <td>Scandinavian_Defense Scandinavian_Defense_Main...</td>\n",
       "      <td>[d6d8, a8d8, d1d8]</td>\n",
       "      <td>[0.8163037300109863, 1.0, 0.8381195068359375]</td>\n",
       "      <td>[d6d8, a8d8, d1d8]</td>\n",
       "      <td>[0.9891000390052795, 0.010525636374950409, 0.0...</td>\n",
       "      <td>[0.007367796264588833, 1.0, 0.18417799472808838]</td>\n",
       "      <td>[a4c2, a8d8, d1d8]</td>\n",
       "      <td>[0.0032667804043740034, 0.9905341863632202, 0....</td>\n",
       "      <td>False</td>\n",
       "      <td>r4k1r/p3np1p/3Qp3/8/B7/P1q5/2b2PPP/3R1RK1 w - ...</td>\n",
       "    </tr>\n",
       "    <tr>\n",
       "      <th>...</th>\n",
       "      <td>...</td>\n",
       "      <td>...</td>\n",
       "      <td>...</td>\n",
       "      <td>...</td>\n",
       "      <td>...</td>\n",
       "      <td>...</td>\n",
       "      <td>...</td>\n",
       "      <td>...</td>\n",
       "      <td>...</td>\n",
       "      <td>...</td>\n",
       "      <td>...</td>\n",
       "      <td>...</td>\n",
       "      <td>...</td>\n",
       "      <td>...</td>\n",
       "      <td>...</td>\n",
       "      <td>...</td>\n",
       "      <td>...</td>\n",
       "      <td>...</td>\n",
       "      <td>...</td>\n",
       "    </tr>\n",
       "    <tr>\n",
       "      <th>998475</th>\n",
       "      <td>GROOt</td>\n",
       "      <td>4r1k1/ppp3pp/8/3p3Q/3P4/N1P1q3/PP4PP/R5K1 w - ...</td>\n",
       "      <td>g1h1 e3e1 a1e1 e8e1</td>\n",
       "      <td>1500</td>\n",
       "      <td>500</td>\n",
       "      <td>100</td>\n",
       "      <td>0</td>\n",
       "      <td>backRankMate mate mateIn2 sacrifice short</td>\n",
       "      <td>https://lichess.org/RZmdFKtG#36</td>\n",
       "      <td>NaN</td>\n",
       "      <td>[e3e1, a1e1, e8e1]</td>\n",
       "      <td>[0.914284348487854, 1.0, 0.9021872282028198]</td>\n",
       "      <td>[e3e1, a1e1, e8e1]</td>\n",
       "      <td>[0.9968218803405762, 0.0031149687711149454, 6....</td>\n",
       "      <td>[0.025426216423511505, 1.0, 0.4032253623008728]</td>\n",
       "      <td>[g7g6, a1e1, e8e1]</td>\n",
       "      <td>[0.0026065187994390726, 0.9903193712234497, 0....</td>\n",
       "      <td>False</td>\n",
       "      <td>4r1k1/ppp3pp/8/3p3Q/3P4/2P1q2N/PP4PP/R6K b - -...</td>\n",
       "    </tr>\n",
       "    <tr>\n",
       "      <th>998603</th>\n",
       "      <td>GRWbO</td>\n",
       "      <td>2Q4r/p2rkpp1/1p2p1p1/1Rn1P3/2P5/8/P2q1PPP/R5K1...</td>\n",
       "      <td>c8h8 d2d1 a1d1 d7d1</td>\n",
       "      <td>614</td>\n",
       "      <td>108</td>\n",
       "      <td>77</td>\n",
       "      <td>292</td>\n",
       "      <td>backRankMate endgame mate mateIn2 sacrifice short</td>\n",
       "      <td>https://lichess.org/QNut8GeD#42</td>\n",
       "      <td>NaN</td>\n",
       "      <td>[d2d1, a1d1, d7d1]</td>\n",
       "      <td>[0.7881166934967041, 1.0, 0.921879768371582]</td>\n",
       "      <td>[d2d1, a1d1, d7d1]</td>\n",
       "      <td>[0.835746705532074, 0.1497642546892166, 0.0144...</td>\n",
       "      <td>[0.004378349520266056, 1.0, 0.7488836050033569]</td>\n",
       "      <td>[d2c3, a1d1, d7d1]</td>\n",
       "      <td>[0.004370738286525011, 0.9921118021011353, 0.0...</td>\n",
       "      <td>False</td>\n",
       "      <td>7Q/p2rkpp1/1p2p1p1/1Rn1P3/2PP4/8/P2q1PPP/R5K1 ...</td>\n",
       "    </tr>\n",
       "    <tr>\n",
       "      <th>998727</th>\n",
       "      <td>GRfMQ</td>\n",
       "      <td>r5kr/pp1np2p/2p3pN/3q4/3b4/4BQ2/PPP3PP/R4RK1 b...</td>\n",
       "      <td>g8g7 f3f7 d5f7 f1f7</td>\n",
       "      <td>1905</td>\n",
       "      <td>81</td>\n",
       "      <td>82</td>\n",
       "      <td>163</td>\n",
       "      <td>mate mateIn2 middlegame short</td>\n",
       "      <td>https://lichess.org/4eKa27sf/black#33</td>\n",
       "      <td>Blackmar-Diemer_Gambit Blackmar-Diemer_Gambit_...</td>\n",
       "      <td>[f3f7, d5f7, f1f7]</td>\n",
       "      <td>[0.6648829579353333, 1.0, 0.9448568224906921]</td>\n",
       "      <td>[f3f7, d5f7, f1f7]</td>\n",
       "      <td>[0.8324284553527832, 0.13927426934242249, 0.02...</td>\n",
       "      <td>[0.04248609021306038, 1.0, 0.3781597912311554]</td>\n",
       "      <td>[a1d1, d5f7, f1f7]</td>\n",
       "      <td>[0.013437950052320957, 0.9757133722305298, 0.0...</td>\n",
       "      <td>False</td>\n",
       "      <td>r7/pp1np1kp/2p3pN/3q2r1/3b4/4BQ2/PPP3PP/R4RK1 ...</td>\n",
       "    </tr>\n",
       "    <tr>\n",
       "      <th>998744</th>\n",
       "      <td>GRghU</td>\n",
       "      <td>rnb2r1k/6p1/2pp3p/p7/PpPBQn1q/8/1PB3P1/R4RK1 b...</td>\n",
       "      <td>c8f5 e4f4 h4f4 f1f4</td>\n",
       "      <td>1896</td>\n",
       "      <td>76</td>\n",
       "      <td>94</td>\n",
       "      <td>11274</td>\n",
       "      <td>advantage middlegame short</td>\n",
       "      <td>https://lichess.org/PLZiUzxT/black#45</td>\n",
       "      <td>NaN</td>\n",
       "      <td>[e4f4, h4f4, f1f4]</td>\n",
       "      <td>[0.6723317503929138, 0.9193455576896667, 0.934...</td>\n",
       "      <td>[e4f4, h4f4, f1f4]</td>\n",
       "      <td>[0.48702141642570496, 0.3291136622428894, 0.18...</td>\n",
       "      <td>[0.04379056394100189, 0.7396147847175598, 0.49...</td>\n",
       "      <td>[f1f4, h4f4, f1f4]</td>\n",
       "      <td>[0.019489536061882973, 0.8916997313499451, 0.0...</td>\n",
       "      <td>False</td>\n",
       "      <td>rn3r1k/1K4p1/2pp3p/p4b2/PpPBQn1q/8/1PB3P1/R4R2...</td>\n",
       "    </tr>\n",
       "    <tr>\n",
       "      <th>999257</th>\n",
       "      <td>GSEV1</td>\n",
       "      <td>2r2rk1/Q3Rppp/2q5/3p1b2/3Pn3/2N5/PP3PPP/R1B3K1...</td>\n",
       "      <td>c3e4 c6c1 a1c1 c8c1</td>\n",
       "      <td>1019</td>\n",
       "      <td>75</td>\n",
       "      <td>100</td>\n",
       "      <td>1307</td>\n",
       "      <td>backRankMate mate mateIn2 middlegame short</td>\n",
       "      <td>https://lichess.org/A8wQYi4y#34</td>\n",
       "      <td>Caro-Kann_Defense Caro-Kann_Defense_Panov_Attack</td>\n",
       "      <td>[c6c1, a1c1, c8c1]</td>\n",
       "      <td>[0.6068207025527954, 1.0, 0.9109964370727539]</td>\n",
       "      <td>[c6c1, a1c1, c8c1]</td>\n",
       "      <td>[0.45293161273002625, 0.3932323753833771, 0.15...</td>\n",
       "      <td>[0.00932350941002369, 1.0, 0.3266618549823761]</td>\n",
       "      <td>[c8a8, a1c1, c8c1]</td>\n",
       "      <td>[0.0010620661778375506, 0.9966142773628235, 0....</td>\n",
       "      <td>False</td>\n",
       "      <td>2r2rk1/Q3Rppp/2q5/3p1b2/3PN3/8/PP3PP1/R1B3K1 b...</td>\n",
       "    </tr>\n",
       "  </tbody>\n",
       "</table>\n",
       "<p>3914 rows × 19 columns</p>\n",
       "</div>"
      ],
      "text/plain": [
       "       PuzzleId                                                FEN  \\\n",
       "182       00Bg4  3r2k1/1q3ppp/p2rp3/Qp1B4/7P/P4P2/1PP3P1/1K1R3R...   \n",
       "477       00TU2  1k1r4/1p3Qp1/p2q3p/3N4/1b6/8/PP3PPP/2R3K1 w - ...   \n",
       "596       00aBq  r2r2k1/pp3ppp/1qn2b2/3R4/4QB2/1P3N2/P4PPP/4R1K...   \n",
       "856       00qMd  4r1kb/3q1p1p/1p1p1PpB/p2P4/2Pp4/6Q1/1P4PP/5RK1...   \n",
       "863       00r1D  r4k1r/p3nppp/3Qp1b1/8/B7/P1q5/2P2PPP/3R1RK1 b ...   \n",
       "...         ...                                                ...   \n",
       "998475    GROOt  4r1k1/ppp3pp/8/3p3Q/3P4/N1P1q3/PP4PP/R5K1 w - ...   \n",
       "998603    GRWbO  2Q4r/p2rkpp1/1p2p1p1/1Rn1P3/2P5/8/P2q1PPP/R5K1...   \n",
       "998727    GRfMQ  r5kr/pp1np2p/2p3pN/3q4/3b4/4BQ2/PPP3PP/R4RK1 b...   \n",
       "998744    GRghU  rnb2r1k/6p1/2pp3p/p7/PpPBQn1q/8/1PB3P1/R4RK1 b...   \n",
       "999257    GSEV1  2r2rk1/Q3Rppp/2q5/3p1b2/3Pn3/2N5/PP3PPP/R1B3K1...   \n",
       "\n",
       "                      Moves  Rating  RatingDeviation  Popularity  NbPlays  \\\n",
       "182     d6d5 a5d8 d5d8 d1d8    1374               85          75      303   \n",
       "477     d5b4 d6d1 c1d1 d8d1     561               81          99     1081   \n",
       "596     d8d5 e4e8 a8e8 e1e8     927               83          88      315   \n",
       "856     e8e3 h6e3 d4e3 g3e3    1610               75          83      115   \n",
       "863     g6c2 d6d8 a8d8 d1d8    1408               94          59       44   \n",
       "...                     ...     ...              ...         ...      ...   \n",
       "998475  g1h1 e3e1 a1e1 e8e1    1500              500         100        0   \n",
       "998603  c8h8 d2d1 a1d1 d7d1     614              108          77      292   \n",
       "998727  g8g7 f3f7 d5f7 f1f7    1905               81          82      163   \n",
       "998744  c8f5 e4f4 h4f4 f1f4    1896               76          94    11274   \n",
       "999257  c3e4 c6c1 a1c1 c8c1    1019               75         100     1307   \n",
       "\n",
       "                                                   Themes  \\\n",
       "182     backRankMate endgame mate mateIn2 short xRayAt...   \n",
       "477     backRankMate endgame mate mateIn2 sacrifice short   \n",
       "596     backRankMate mate mateIn2 middlegame sacrifice...   \n",
       "856                                crushing endgame short   \n",
       "863     backRankMate mate mateIn2 middlegame sacrifice...   \n",
       "...                                                   ...   \n",
       "998475          backRankMate mate mateIn2 sacrifice short   \n",
       "998603  backRankMate endgame mate mateIn2 sacrifice short   \n",
       "998727                      mate mateIn2 middlegame short   \n",
       "998744                         advantage middlegame short   \n",
       "999257         backRankMate mate mateIn2 middlegame short   \n",
       "\n",
       "                                      GameUrl  \\\n",
       "182     https://lichess.org/6qWf8wOP/black#41   \n",
       "477           https://lichess.org/p32396Rd#42   \n",
       "596     https://lichess.org/0AybhVJm/black#35   \n",
       "856     https://lichess.org/Q8kfKCl5/black#51   \n",
       "863     https://lichess.org/nb7Z1HHv/black#35   \n",
       "...                                       ...   \n",
       "998475        https://lichess.org/RZmdFKtG#36   \n",
       "998603        https://lichess.org/QNut8GeD#42   \n",
       "998727  https://lichess.org/4eKa27sf/black#33   \n",
       "998744  https://lichess.org/PLZiUzxT/black#45   \n",
       "999257        https://lichess.org/A8wQYi4y#34   \n",
       "\n",
       "                                              OpeningTags principal_variation  \\\n",
       "182                                                   NaN  [a5d8, d5d8, d1d8]   \n",
       "477                                                   NaN  [d6d1, c1d1, d8d1]   \n",
       "596       Queens_Pawn_Game Queens_Pawn_Game_London_System  [e4e8, a8e8, e1e8]   \n",
       "856                                                   NaN  [h6e3, d4e3, g3e3]   \n",
       "863     Scandinavian_Defense Scandinavian_Defense_Main...  [d6d8, a8d8, d1d8]   \n",
       "...                                                   ...                 ...   \n",
       "998475                                                NaN  [e3e1, a1e1, e8e1]   \n",
       "998603                                                NaN  [d2d1, a1d1, d7d1]   \n",
       "998727  Blackmar-Diemer_Gambit Blackmar-Diemer_Gambit_...  [f3f7, d5f7, f1f7]   \n",
       "998744                                                NaN  [e4f4, h4f4, f1f4]   \n",
       "999257   Caro-Kann_Defense Caro-Kann_Defense_Panov_Attack  [c6c1, a1c1, c8c1]   \n",
       "\n",
       "                                            full_pv_probs    full_model_moves  \\\n",
       "182         [0.9316630959510803, 1.0, 0.9474834203720093]  [a5d8, d5d8, d1d8]   \n",
       "477         [0.9027991890907288, 1.0, 0.9316168427467346]  [d6d1, c1d1, d8d1]   \n",
       "596         [0.8980200290679932, 1.0, 0.7761741876602173]  [e4e8, a8e8, e1e8]   \n",
       "856     [0.9296777844429016, 0.8816071152687073, 0.906...  [h6e3, d4e3, g3e3]   \n",
       "863         [0.8163037300109863, 1.0, 0.8381195068359375]  [d6d8, a8d8, d1d8]   \n",
       "...                                                   ...                 ...   \n",
       "998475       [0.914284348487854, 1.0, 0.9021872282028198]  [e3e1, a1e1, e8e1]   \n",
       "998603       [0.7881166934967041, 1.0, 0.921879768371582]  [d2d1, a1d1, d7d1]   \n",
       "998727      [0.6648829579353333, 1.0, 0.9448568224906921]  [f3f7, d5f7, f1f7]   \n",
       "998744  [0.6723317503929138, 0.9193455576896667, 0.934...  [e4f4, h4f4, f1f4]   \n",
       "999257      [0.6068207025527954, 1.0, 0.9109964370727539]  [c6c1, a1c1, c8c1]   \n",
       "\n",
       "                                                 full_wdl  \\\n",
       "182     [0.9491999745368958, 0.04444213956594467, 0.00...   \n",
       "477     [0.6312634944915771, 0.21408513188362122, 0.15...   \n",
       "596     [0.9844181537628174, 0.014828264713287354, 0.0...   \n",
       "856     [0.9488192796707153, 0.044057901948690414, 0.0...   \n",
       "863     [0.9891000390052795, 0.010525636374950409, 0.0...   \n",
       "...                                                   ...   \n",
       "998475  [0.9968218803405762, 0.0031149687711149454, 6....   \n",
       "998603  [0.835746705532074, 0.1497642546892166, 0.0144...   \n",
       "998727  [0.8324284553527832, 0.13927426934242249, 0.02...   \n",
       "998744  [0.48702141642570496, 0.3291136622428894, 0.18...   \n",
       "999257  [0.45293161273002625, 0.3932323753833771, 0.15...   \n",
       "\n",
       "                                   sparring_full_pv_probs  \\\n",
       "182        [0.008508995175361633, 1.0, 0.772297203540802]   \n",
       "477      [0.019247423857450485, 1.0, 0.33872464299201965]   \n",
       "596      [0.008638557977974415, 1.0, 0.15357662737369537]   \n",
       "856     [0.017292404547333717, 0.8276771306991577, 0.5...   \n",
       "863      [0.007367796264588833, 1.0, 0.18417799472808838]   \n",
       "...                                                   ...   \n",
       "998475    [0.025426216423511505, 1.0, 0.4032253623008728]   \n",
       "998603    [0.004378349520266056, 1.0, 0.7488836050033569]   \n",
       "998727     [0.04248609021306038, 1.0, 0.3781597912311554]   \n",
       "998744  [0.04379056394100189, 0.7396147847175598, 0.49...   \n",
       "999257     [0.00932350941002369, 1.0, 0.3266618549823761]   \n",
       "\n",
       "       sparring_full_model_moves  \\\n",
       "182           [d1d5, d5d8, d1d8]   \n",
       "477           [d6b4, c1d1, d8d1]   \n",
       "596           [e4d5, a8e8, e1e8]   \n",
       "856           [g3f4, d4e3, g3e3]   \n",
       "863           [a4c2, a8d8, d1d8]   \n",
       "...                          ...   \n",
       "998475        [g7g6, a1e1, e8e1]   \n",
       "998603        [d2c3, a1d1, d7d1]   \n",
       "998727        [a1d1, d5f7, f1f7]   \n",
       "998744        [f1f4, h4f4, f1f4]   \n",
       "999257        [c8a8, a1c1, c8c1]   \n",
       "\n",
       "                                             sparring_wdl  different_targets  \\\n",
       "182     [0.007286431733518839, 0.983742892742157, 0.00...              False   \n",
       "477     [0.0008122252183966339, 0.996202290058136, 0.0...              False   \n",
       "596     [0.004472474101930857, 0.9796410799026489, 0.0...              False   \n",
       "856     [0.018963830545544624, 0.9749616384506226, 0.0...              False   \n",
       "863     [0.0032667804043740034, 0.9905341863632202, 0....              False   \n",
       "...                                                   ...                ...   \n",
       "998475  [0.0026065187994390726, 0.9903193712234497, 0....              False   \n",
       "998603  [0.004370738286525011, 0.9921118021011353, 0.0...              False   \n",
       "998727  [0.013437950052320957, 0.9757133722305298, 0.0...              False   \n",
       "998744  [0.019489536061882973, 0.8916997313499451, 0.0...              False   \n",
       "999257  [0.0010620661778375506, 0.9966142773628235, 0....              False   \n",
       "\n",
       "                                            corrupted_fen  \n",
       "182     3r4/1q3ppp/p3p3/Qp1r4/5k1P/P4P2/1PP3P1/1K1R3R ...  \n",
       "477     1k1r4/1p3Qp1/p2q3p/8/1N6/8/PP3PPP/K1R5 b - - 0 22  \n",
       "596     r1q3k1/pp3ppp/2n2b2/3r4/4QB2/1P3N2/P4PPP/4R1K1...  \n",
       "856     6k1/3q1p1p/1p1p1PpB/p2P4/2Pp4/4r1Q1/1P4PP/2b2R...  \n",
       "863     r4k1r/p3np1p/3Qp3/8/B7/P1q5/2b2PPP/3R1RK1 w - ...  \n",
       "...                                                   ...  \n",
       "998475  4r1k1/ppp3pp/8/3p3Q/3P4/2P1q2N/PP4PP/R6K b - -...  \n",
       "998603  7Q/p2rkpp1/1p2p1p1/1Rn1P3/2PP4/8/P2q1PPP/R5K1 ...  \n",
       "998727  r7/pp1np1kp/2p3pN/3q2r1/3b4/4BQ2/PPP3PP/R4RK1 ...  \n",
       "998744  rn3r1k/1K4p1/2pp3p/p4b2/PpPBQn1q/8/1PB3P1/R4R2...  \n",
       "999257  2r2rk1/Q3Rppp/2q5/3p1b2/3PN3/8/PP3PP1/R1B3K1 b...  \n",
       "\n",
       "[3914 rows x 19 columns]"
      ]
     },
     "execution_count": 13,
     "metadata": {},
     "output_type": "execute_result"
    }
   ],
   "source": [
    "sacrifice_puzzles"
   ]
  },
  {
   "cell_type": "markdown",
   "metadata": {},
   "source": [
    "Let's look at one of these puzzles:"
   ]
  },
  {
   "cell_type": "code",
   "execution_count": 14,
   "metadata": {},
   "outputs": [
    {
     "data": {
      "image/svg+xml": [
       "<svg xmlns=\"http://www.w3.org/2000/svg\" xmlns:xlink=\"http://www.w3.org/1999/xlink\" viewBox=\"0 0 390 390\" width=\"390\" height=\"390\"><desc><pre>. k . r . . . .\n",
       ". p . . . Q p .\n",
       "p . . q . . . p\n",
       ". . . . . . . .\n",
       ". N . . . . . .\n",
       ". . . . . . . .\n",
       "P P . . . P P P\n",
       ". . R . . . K .</pre></desc><defs><g id=\"white-pawn\" class=\"white pawn\"><path d=\"M22.5 9c-2.21 0-4 1.79-4 4 0 .89.29 1.71.78 2.38C17.33 16.5 16 18.59 16 21c0 2.03.94 3.84 2.41 5.03-3 1.06-7.41 5.55-7.41 13.47h23c0-7.92-4.41-12.41-7.41-13.47 1.47-1.19 2.41-3 2.41-5.03 0-2.41-1.33-4.5-3.28-5.62.49-.67.78-1.49.78-2.38 0-2.21-1.79-4-4-4z\" fill=\"#fff\" stroke=\"#000\" stroke-width=\"1.5\" stroke-linecap=\"round\" /></g><g id=\"white-knight\" class=\"white knight\" fill=\"none\" fill-rule=\"evenodd\" stroke=\"#000\" stroke-width=\"1.5\" stroke-linecap=\"round\" stroke-linejoin=\"round\"><path d=\"M 22,10 C 32.5,11 38.5,18 38,39 L 15,39 C 15,30 25,32.5 23,18\" style=\"fill:#ffffff; stroke:#000000;\" /><path d=\"M 24,18 C 24.38,20.91 18.45,25.37 16,27 C 13,29 13.18,31.34 11,31 C 9.958,30.06 12.41,27.96 11,28 C 10,28 11.19,29.23 10,30 C 9,30 5.997,31 6,26 C 6,24 12,14 12,14 C 12,14 13.89,12.1 14,10.5 C 13.27,9.506 13.5,8.5 13.5,7.5 C 14.5,6.5 16.5,10 16.5,10 L 18.5,10 C 18.5,10 19.28,8.008 21,7 C 22,7 22,10 22,10\" style=\"fill:#ffffff; stroke:#000000;\" /><path d=\"M 9.5 25.5 A 0.5 0.5 0 1 1 8.5,25.5 A 0.5 0.5 0 1 1 9.5 25.5 z\" style=\"fill:#000000; stroke:#000000;\" /><path d=\"M 15 15.5 A 0.5 1.5 0 1 1 14,15.5 A 0.5 1.5 0 1 1 15 15.5 z\" transform=\"matrix(0.866,0.5,-0.5,0.866,9.693,-5.173)\" style=\"fill:#000000; stroke:#000000;\" /></g><g id=\"white-rook\" class=\"white rook\" fill=\"#fff\" fill-rule=\"evenodd\" stroke=\"#000\" stroke-width=\"1.5\" stroke-linecap=\"round\" stroke-linejoin=\"round\"><path d=\"M9 39h27v-3H9v3zM12 36v-4h21v4H12zM11 14V9h4v2h5V9h5v2h5V9h4v5\" stroke-linecap=\"butt\" /><path d=\"M34 14l-3 3H14l-3-3\" /><path d=\"M31 17v12.5H14V17\" stroke-linecap=\"butt\" stroke-linejoin=\"miter\" /><path d=\"M31 29.5l1.5 2.5h-20l1.5-2.5\" /><path d=\"M11 14h23\" fill=\"none\" stroke-linejoin=\"miter\" /></g><g id=\"white-queen\" class=\"white queen\" fill=\"#fff\" fill-rule=\"evenodd\" stroke=\"#000\" stroke-width=\"1.5\" stroke-linecap=\"round\" stroke-linejoin=\"round\"><path d=\"M8 12a2 2 0 1 1-4 0 2 2 0 1 1 4 0zM24.5 7.5a2 2 0 1 1-4 0 2 2 0 1 1 4 0zM41 12a2 2 0 1 1-4 0 2 2 0 1 1 4 0zM16 8.5a2 2 0 1 1-4 0 2 2 0 1 1 4 0zM33 9a2 2 0 1 1-4 0 2 2 0 1 1 4 0z\" /><path d=\"M9 26c8.5-1.5 21-1.5 27 0l2-12-7 11V11l-5.5 13.5-3-15-3 15-5.5-14V25L7 14l2 12zM9 26c0 2 1.5 2 2.5 4 1 1.5 1 1 .5 3.5-1.5 1-1.5 2.5-1.5 2.5-1.5 1.5.5 2.5.5 2.5 6.5 1 16.5 1 23 0 0 0 1.5-1 0-2.5 0 0 .5-1.5-1-2.5-.5-2.5-.5-2 .5-3.5 1-2 2.5-2 2.5-4-8.5-1.5-18.5-1.5-27 0z\" stroke-linecap=\"butt\" /><path d=\"M11.5 30c3.5-1 18.5-1 22 0M12 33.5c6-1 15-1 21 0\" fill=\"none\" /></g><g id=\"white-king\" class=\"white king\" fill=\"none\" fill-rule=\"evenodd\" stroke=\"#000\" stroke-width=\"1.5\" stroke-linecap=\"round\" stroke-linejoin=\"round\"><path d=\"M22.5 11.63V6M20 8h5\" stroke-linejoin=\"miter\" /><path d=\"M22.5 25s4.5-7.5 3-10.5c0 0-1-2.5-3-2.5s-3 2.5-3 2.5c-1.5 3 3 10.5 3 10.5\" fill=\"#fff\" stroke-linecap=\"butt\" stroke-linejoin=\"miter\" /><path d=\"M11.5 37c5.5 3.5 15.5 3.5 21 0v-7s9-4.5 6-10.5c-4-6.5-13.5-3.5-16 4V27v-3.5c-3.5-7.5-13-10.5-16-4-3 6 5 10 5 10V37z\" fill=\"#fff\" /><path d=\"M11.5 30c5.5-3 15.5-3 21 0m-21 3.5c5.5-3 15.5-3 21 0m-21 3.5c5.5-3 15.5-3 21 0\" /></g><g id=\"black-pawn\" class=\"black pawn\"><path d=\"M22.5 9c-2.21 0-4 1.79-4 4 0 .89.29 1.71.78 2.38C17.33 16.5 16 18.59 16 21c0 2.03.94 3.84 2.41 5.03-3 1.06-7.41 5.55-7.41 13.47h23c0-7.92-4.41-12.41-7.41-13.47 1.47-1.19 2.41-3 2.41-5.03 0-2.41-1.33-4.5-3.28-5.62.49-.67.78-1.49.78-2.38 0-2.21-1.79-4-4-4z\" fill=\"#000\" stroke=\"#000\" stroke-width=\"1.5\" stroke-linecap=\"round\" /></g><g id=\"black-rook\" class=\"black rook\" fill=\"#000\" fill-rule=\"evenodd\" stroke=\"#000\" stroke-width=\"1.5\" stroke-linecap=\"round\" stroke-linejoin=\"round\"><path d=\"M9 39h27v-3H9v3zM12.5 32l1.5-2.5h17l1.5 2.5h-20zM12 36v-4h21v4H12z\" stroke-linecap=\"butt\" /><path d=\"M14 29.5v-13h17v13H14z\" stroke-linecap=\"butt\" stroke-linejoin=\"miter\" /><path d=\"M14 16.5L11 14h23l-3 2.5H14zM11 14V9h4v2h5V9h5v2h5V9h4v5H11z\" stroke-linecap=\"butt\" /><path d=\"M12 35.5h21M13 31.5h19M14 29.5h17M14 16.5h17M11 14h23\" fill=\"none\" stroke=\"#fff\" stroke-width=\"1\" stroke-linejoin=\"miter\" /></g><g id=\"black-queen\" class=\"black queen\" fill=\"#000\" fill-rule=\"evenodd\" stroke=\"#000\" stroke-width=\"1.5\" stroke-linecap=\"round\" stroke-linejoin=\"round\"><g fill=\"#000\" stroke=\"none\"><circle cx=\"6\" cy=\"12\" r=\"2.75\" /><circle cx=\"14\" cy=\"9\" r=\"2.75\" /><circle cx=\"22.5\" cy=\"8\" r=\"2.75\" /><circle cx=\"31\" cy=\"9\" r=\"2.75\" /><circle cx=\"39\" cy=\"12\" r=\"2.75\" /></g><path d=\"M9 26c8.5-1.5 21-1.5 27 0l2.5-12.5L31 25l-.3-14.1-5.2 13.6-3-14.5-3 14.5-5.2-13.6L14 25 6.5 13.5 9 26zM9 26c0 2 1.5 2 2.5 4 1 1.5 1 1 .5 3.5-1.5 1-1.5 2.5-1.5 2.5-1.5 1.5.5 2.5.5 2.5 6.5 1 16.5 1 23 0 0 0 1.5-1 0-2.5 0 0 .5-1.5-1-2.5-.5-2.5-.5-2 .5-3.5 1-2 2.5-2 2.5-4-8.5-1.5-18.5-1.5-27 0z\" stroke-linecap=\"butt\" /><path d=\"M11 38.5a35 35 1 0 0 23 0\" fill=\"none\" stroke-linecap=\"butt\" /><path d=\"M11 29a35 35 1 0 1 23 0M12.5 31.5h20M11.5 34.5a35 35 1 0 0 22 0M10.5 37.5a35 35 1 0 0 24 0\" fill=\"none\" stroke=\"#fff\" /></g><g id=\"black-king\" class=\"black king\" fill=\"none\" fill-rule=\"evenodd\" stroke=\"#000\" stroke-width=\"1.5\" stroke-linecap=\"round\" stroke-linejoin=\"round\"><path d=\"M22.5 11.63V6\" stroke-linejoin=\"miter\" /><path d=\"M22.5 25s4.5-7.5 3-10.5c0 0-1-2.5-3-2.5s-3 2.5-3 2.5c-1.5 3 3 10.5 3 10.5\" fill=\"#000\" stroke-linecap=\"butt\" stroke-linejoin=\"miter\" /><path d=\"M11.5 37c5.5 3.5 15.5 3.5 21 0v-7s9-4.5 6-10.5c-4-6.5-13.5-3.5-16 4V27v-3.5c-3.5-7.5-13-10.5-16-4-3 6 5 10 5 10V37z\" fill=\"#000\" /><path d=\"M20 8h5\" stroke-linejoin=\"miter\" /><path d=\"M32 29.5s8.5-4 6.03-9.65C34.15 14 25 18 22.5 24.5l.01 2.1-.01-2.1C20 18 9.906 14 6.997 19.85c-2.497 5.65 4.853 9 4.853 9M11.5 30c5.5-3 15.5-3 21 0m-21 3.5c5.5-3 15.5-3 21 0m-21 3.5c5.5-3 15.5-3 21 0\" stroke=\"#fff\" /></g></defs><rect x=\"7.5\" y=\"7.5\" width=\"375\" height=\"375\" fill=\"none\" stroke=\"#212121\" stroke-width=\"15\" /><g transform=\"translate(20, 1) scale(0.75, 0.75)\" fill=\"#e5e5e5\" stroke=\"#e5e5e5\"><path d=\"M23.328 10.016q-1.742 0-2.414.398-.672.398-.672 1.36 0 .765.5 1.218.508.445 1.375.445 1.196 0 1.914-.843.727-.852.727-2.258v-.32zm2.867-.594v4.992h-1.437v-1.328q-.492.797-1.227 1.18-.734.375-1.797.375-1.343 0-2.14-.75-.79-.758-.79-2.024 0-1.476.985-2.226.992-.75 2.953-.75h2.016V8.75q0-.992-.656-1.531-.649-.547-1.829-.547-.75 0-1.46.18-.711.18-1.368.539V6.062q.79-.304 1.532-.453.742-.156 1.445-.156 1.898 0 2.836.984.937.985.937 2.985z\" /></g><g transform=\"translate(20, 375) scale(0.75, 0.75)\" fill=\"#e5e5e5\" stroke=\"#e5e5e5\"><path d=\"M23.328 10.016q-1.742 0-2.414.398-.672.398-.672 1.36 0 .765.5 1.218.508.445 1.375.445 1.196 0 1.914-.843.727-.852.727-2.258v-.32zm2.867-.594v4.992h-1.437v-1.328q-.492.797-1.227 1.18-.734.375-1.797.375-1.343 0-2.14-.75-.79-.758-.79-2.024 0-1.476.985-2.226.992-.75 2.953-.75h2.016V8.75q0-.992-.656-1.531-.649-.547-1.829-.547-.75 0-1.46.18-.711.18-1.368.539V6.062q.79-.304 1.532-.453.742-.156 1.445-.156 1.898 0 2.836.984.937.985.937 2.985z\" /></g><g transform=\"translate(65, 1) scale(0.75, 0.75)\" fill=\"#e5e5e5\" stroke=\"#e5e5e5\"><path d=\"M24.922 10.047q0-1.586-.656-2.485-.649-.906-1.79-.906-1.14 0-1.796.906-.649.899-.649 2.485 0 1.586.649 2.492.656.898 1.797.898 1.14 0 1.789-.898.656-.906.656-2.492zm-4.89-3.055q.452-.781 1.14-1.156.695-.383 1.656-.383 1.594 0 2.586 1.266 1 1.265 1 3.328 0 2.062-1 3.328-.992 1.266-2.586 1.266-.96 0-1.656-.375-.688-.383-1.14-1.164v1.312h-1.446V2.258h1.445z\" /></g><g transform=\"translate(65, 375) scale(0.75, 0.75)\" fill=\"#e5e5e5\" stroke=\"#e5e5e5\"><path d=\"M24.922 10.047q0-1.586-.656-2.485-.649-.906-1.79-.906-1.14 0-1.796.906-.649.899-.649 2.485 0 1.586.649 2.492.656.898 1.797.898 1.14 0 1.789-.898.656-.906.656-2.492zm-4.89-3.055q.452-.781 1.14-1.156.695-.383 1.656-.383 1.594 0 2.586 1.266 1 1.265 1 3.328 0 2.062-1 3.328-.992 1.266-2.586 1.266-.96 0-1.656-.375-.688-.383-1.14-1.164v1.312h-1.446V2.258h1.445z\" /></g><g transform=\"translate(110, 1) scale(0.75, 0.75)\" fill=\"#e5e5e5\" stroke=\"#e5e5e5\"><path d=\"M25.96 6v1.344q-.608-.336-1.226-.5-.609-.172-1.234-.172-1.398 0-2.172.89-.773.883-.773 2.485 0 1.601.773 2.492.774.883 2.172.883.625 0 1.234-.164.618-.172 1.227-.508v1.328q-.602.281-1.25.422-.64.14-1.367.14-1.977 0-3.14-1.242-1.165-1.242-1.165-3.351 0-2.14 1.172-3.367 1.18-1.227 3.227-1.227.664 0 1.296.14.633.134 1.227.407z\" /></g><g transform=\"translate(110, 375) scale(0.75, 0.75)\" fill=\"#e5e5e5\" stroke=\"#e5e5e5\"><path d=\"M25.96 6v1.344q-.608-.336-1.226-.5-.609-.172-1.234-.172-1.398 0-2.172.89-.773.883-.773 2.485 0 1.601.773 2.492.774.883 2.172.883.625 0 1.234-.164.618-.172 1.227-.508v1.328q-.602.281-1.25.422-.64.14-1.367.14-1.977 0-3.14-1.242-1.165-1.242-1.165-3.351 0-2.14 1.172-3.367 1.18-1.227 3.227-1.227.664 0 1.296.14.633.134 1.227.407z\" /></g><g transform=\"translate(155, 1) scale(0.75, 0.75)\" fill=\"#e5e5e5\" stroke=\"#e5e5e5\"><path d=\"M24.973 6.992V2.258h1.437v12.156h-1.437v-1.312q-.453.78-1.149 1.164-.687.375-1.656.375-1.586 0-2.586-1.266-.992-1.266-.992-3.328 0-2.063.992-3.328 1-1.266 2.586-1.266.969 0 1.656.383.696.375 1.149 1.156zm-4.899 3.055q0 1.586.649 2.492.656.898 1.797.898 1.14 0 1.796-.898.657-.906.657-2.492 0-1.586-.657-2.485-.656-.906-1.796-.906-1.141 0-1.797.906-.649.899-.649 2.485z\" /></g><g transform=\"translate(155, 375) scale(0.75, 0.75)\" fill=\"#e5e5e5\" stroke=\"#e5e5e5\"><path d=\"M24.973 6.992V2.258h1.437v12.156h-1.437v-1.312q-.453.78-1.149 1.164-.687.375-1.656.375-1.586 0-2.586-1.266-.992-1.266-.992-3.328 0-2.063.992-3.328 1-1.266 2.586-1.266.969 0 1.656.383.696.375 1.149 1.156zm-4.899 3.055q0 1.586.649 2.492.656.898 1.797.898 1.14 0 1.796-.898.657-.906.657-2.492 0-1.586-.657-2.485-.656-.906-1.796-.906-1.141 0-1.797.906-.649.899-.649 2.485z\" /></g><g transform=\"translate(200, 1) scale(0.75, 0.75)\" fill=\"#e5e5e5\" stroke=\"#e5e5e5\"><path d=\"M26.555 9.68v.703h-6.61q.094 1.484.89 2.265.806.774 2.235.774.828 0 1.602-.203.781-.203 1.547-.61v1.36q-.774.328-1.586.5-.813.172-1.649.172-2.093 0-3.32-1.22-1.219-1.218-1.219-3.296 0-2.148 1.157-3.406 1.164-1.266 3.132-1.266 1.766 0 2.79 1.14 1.03 1.134 1.03 3.087zm-1.438-.422q-.015-1.18-.664-1.883-.64-.703-1.703-.703-1.203 0-1.93.68-.718.68-.828 1.914z\" /></g><g transform=\"translate(200, 375) scale(0.75, 0.75)\" fill=\"#e5e5e5\" stroke=\"#e5e5e5\"><path d=\"M26.555 9.68v.703h-6.61q.094 1.484.89 2.265.806.774 2.235.774.828 0 1.602-.203.781-.203 1.547-.61v1.36q-.774.328-1.586.5-.813.172-1.649.172-2.093 0-3.32-1.22-1.219-1.218-1.219-3.296 0-2.148 1.157-3.406 1.164-1.266 3.132-1.266 1.766 0 2.79 1.14 1.03 1.134 1.03 3.087zm-1.438-.422q-.015-1.18-.664-1.883-.64-.703-1.703-.703-1.203 0-1.93.68-.718.68-.828 1.914z\" /></g><g transform=\"translate(245, 1) scale(0.75, 0.75)\" fill=\"#e5e5e5\" stroke=\"#e5e5e5\"><path d=\"M25.285 2.258v1.195H23.91q-.773 0-1.078.313-.297.312-.297 1.125v.773h2.367v1.117h-2.367v7.633H21.09V6.781h-1.375V5.664h1.375v-.61q0-1.46.68-2.124.68-.672 2.156-.672z\" /></g><g transform=\"translate(245, 375) scale(0.75, 0.75)\" fill=\"#e5e5e5\" stroke=\"#e5e5e5\"><path d=\"M25.285 2.258v1.195H23.91q-.773 0-1.078.313-.297.312-.297 1.125v.773h2.367v1.117h-2.367v7.633H21.09V6.781h-1.375V5.664h1.375v-.61q0-1.46.68-2.124.68-.672 2.156-.672z\" /></g><g transform=\"translate(290, 1) scale(0.75, 0.75)\" fill=\"#e5e5e5\" stroke=\"#e5e5e5\"><path d=\"M24.973 9.937q0-1.562-.649-2.421-.64-.86-1.804-.86-1.157 0-1.805.86-.64.859-.64 2.421 0 1.555.64 2.415.648.859 1.805.859 1.164 0 1.804-.86.649-.859.649-2.414zm1.437 3.391q0 2.234-.992 3.32-.992 1.094-3.04 1.094-.757 0-1.429-.117-.672-.11-1.304-.344v-1.398q.632.344 1.25.508.617.164 1.257.164 1.414 0 2.118-.743.703-.734.703-2.226v-.711q-.446.773-1.141 1.156-.695.383-1.664.383-1.61 0-2.594-1.227-.984-1.226-.984-3.25 0-2.03.984-3.257.985-1.227 2.594-1.227.969 0 1.664.383t1.14 1.156V5.664h1.438z\" /></g><g transform=\"translate(290, 375) scale(0.75, 0.75)\" fill=\"#e5e5e5\" stroke=\"#e5e5e5\"><path d=\"M24.973 9.937q0-1.562-.649-2.421-.64-.86-1.804-.86-1.157 0-1.805.86-.64.859-.64 2.421 0 1.555.64 2.415.648.859 1.805.859 1.164 0 1.804-.86.649-.859.649-2.414zm1.437 3.391q0 2.234-.992 3.32-.992 1.094-3.04 1.094-.757 0-1.429-.117-.672-.11-1.304-.344v-1.398q.632.344 1.25.508.617.164 1.257.164 1.414 0 2.118-.743.703-.734.703-2.226v-.711q-.446.773-1.141 1.156-.695.383-1.664.383-1.61 0-2.594-1.227-.984-1.226-.984-3.25 0-2.03.984-3.257.985-1.227 2.594-1.227.969 0 1.664.383t1.14 1.156V5.664h1.438z\" /></g><g transform=\"translate(335, 1) scale(0.75, 0.75)\" fill=\"#e5e5e5\" stroke=\"#e5e5e5\"><path d=\"M26.164 9.133v5.281h-1.437V9.18q0-1.243-.485-1.86-.484-.617-1.453-.617-1.164 0-1.836.742-.672.742-.672 2.024v4.945h-1.445V2.258h1.445v4.765q.516-.789 1.211-1.18.703-.39 1.617-.39 1.508 0 2.282.938.773.93.773 2.742z\" /></g><g transform=\"translate(335, 375) scale(0.75, 0.75)\" fill=\"#e5e5e5\" stroke=\"#e5e5e5\"><path d=\"M26.164 9.133v5.281h-1.437V9.18q0-1.243-.485-1.86-.484-.617-1.453-.617-1.164 0-1.836.742-.672.742-.672 2.024v4.945h-1.445V2.258h1.445v4.765q.516-.789 1.211-1.18.703-.39 1.617-.39 1.508 0 2.282.938.773.93.773 2.742z\" /></g><g transform=\"translate(0, 335) scale(0.75, 0.75)\" fill=\"#e5e5e5\" stroke=\"#e5e5e5\"><path d=\"M6.754 26.996h2.578v-8.898l-2.805.562v-1.437l2.79-.563h1.578v10.336h2.578v1.328h-6.72z\" /></g><g transform=\"translate(375, 335) scale(0.75, 0.75)\" fill=\"#e5e5e5\" stroke=\"#e5e5e5\"><path d=\"M6.754 26.996h2.578v-8.898l-2.805.562v-1.437l2.79-.563h1.578v10.336h2.578v1.328h-6.72z\" /></g><g transform=\"translate(0, 290) scale(0.75, 0.75)\" fill=\"#e5e5e5\" stroke=\"#e5e5e5\"><path d=\"M8.195 26.996h5.508v1.328H6.297v-1.328q.898-.93 2.445-2.492 1.555-1.57 1.953-2.024.758-.851 1.055-1.437.305-.594.305-1.164 0-.93-.657-1.516-.648-.586-1.695-.586-.742 0-1.57.258-.82.258-1.758.781v-1.593q.953-.383 1.781-.578.828-.196 1.516-.196 1.812 0 2.89.906 1.079.907 1.079 2.422 0 .72-.274 1.368-.265.64-.976 1.515-.196.227-1.243 1.313-1.046 1.078-2.953 3.023z\" /></g><g transform=\"translate(375, 290) scale(0.75, 0.75)\" fill=\"#e5e5e5\" stroke=\"#e5e5e5\"><path d=\"M8.195 26.996h5.508v1.328H6.297v-1.328q.898-.93 2.445-2.492 1.555-1.57 1.953-2.024.758-.851 1.055-1.437.305-.594.305-1.164 0-.93-.657-1.516-.648-.586-1.695-.586-.742 0-1.57.258-.82.258-1.758.781v-1.593q.953-.383 1.781-.578.828-.196 1.516-.196 1.812 0 2.89.906 1.079.907 1.079 2.422 0 .72-.274 1.368-.265.64-.976 1.515-.196.227-1.243 1.313-1.046 1.078-2.953 3.023z\" /></g><g transform=\"translate(0, 245) scale(0.75, 0.75)\" fill=\"#e5e5e5\" stroke=\"#e5e5e5\"><path d=\"M11.434 22.035q1.132.242 1.765 1.008.64.766.64 1.89 0 1.727-1.187 2.672-1.187.946-3.375.946-.734 0-1.515-.149-.774-.14-1.602-.43V26.45q.656.383 1.438.578.78.196 1.632.196 1.485 0 2.258-.586.782-.586.782-1.703 0-1.032-.727-1.61-.719-.586-2.008-.586h-1.36v-1.297h1.423q1.164 0 1.78-.46.618-.47.618-1.344 0-.899-.64-1.375-.633-.485-1.82-.485-.65 0-1.391.141-.743.14-1.633.437V16.95q.898-.25 1.68-.375.788-.125 1.484-.125 1.797 0 2.844.82 1.046.813 1.046 2.204 0 .968-.554 1.64-.555.664-1.578.922z\" /></g><g transform=\"translate(375, 245) scale(0.75, 0.75)\" fill=\"#e5e5e5\" stroke=\"#e5e5e5\"><path d=\"M11.434 22.035q1.132.242 1.765 1.008.64.766.64 1.89 0 1.727-1.187 2.672-1.187.946-3.375.946-.734 0-1.515-.149-.774-.14-1.602-.43V26.45q.656.383 1.438.578.78.196 1.632.196 1.485 0 2.258-.586.782-.586.782-1.703 0-1.032-.727-1.61-.719-.586-2.008-.586h-1.36v-1.297h1.423q1.164 0 1.78-.46.618-.47.618-1.344 0-.899-.64-1.375-.633-.485-1.82-.485-.65 0-1.391.141-.743.14-1.633.437V16.95q.898-.25 1.68-.375.788-.125 1.484-.125 1.797 0 2.844.82 1.046.813 1.046 2.204 0 .968-.554 1.64-.555.664-1.578.922z\" /></g><g transform=\"translate(0, 200) scale(0.75, 0.75)\" fill=\"#e5e5e5\" stroke=\"#e5e5e5\"><path d=\"M11.016 18.035L7.03 24.262h3.985zm-.414-1.375h1.984v7.602h1.664v1.312h-1.664v2.75h-1.57v-2.75H5.75v-1.523z\" /></g><g transform=\"translate(375, 200) scale(0.75, 0.75)\" fill=\"#e5e5e5\" stroke=\"#e5e5e5\"><path d=\"M11.016 18.035L7.03 24.262h3.985zm-.414-1.375h1.984v7.602h1.664v1.312h-1.664v2.75h-1.57v-2.75H5.75v-1.523z\" /></g><g transform=\"translate(0, 155) scale(0.75, 0.75)\" fill=\"#e5e5e5\" stroke=\"#e5e5e5\"><path d=\"M6.719 16.66h6.195v1.328h-4.75v2.86q.344-.118.688-.172.343-.063.687-.063 1.953 0 3.094 1.07 1.14 1.07 1.14 2.899 0 1.883-1.171 2.93-1.172 1.039-3.305 1.039-.735 0-1.5-.125-.758-.125-1.57-.375v-1.586q.703.383 1.453.57.75.188 1.586.188 1.351 0 2.14-.711.79-.711.79-1.93 0-1.219-.79-1.93-.789-.71-2.14-.71-.633 0-1.266.14-.625.14-1.281.438z\" /></g><g transform=\"translate(375, 155) scale(0.75, 0.75)\" fill=\"#e5e5e5\" stroke=\"#e5e5e5\"><path d=\"M6.719 16.66h6.195v1.328h-4.75v2.86q.344-.118.688-.172.343-.063.687-.063 1.953 0 3.094 1.07 1.14 1.07 1.14 2.899 0 1.883-1.171 2.93-1.172 1.039-3.305 1.039-.735 0-1.5-.125-.758-.125-1.57-.375v-1.586q.703.383 1.453.57.75.188 1.586.188 1.351 0 2.14-.711.79-.711.79-1.93 0-1.219-.79-1.93-.789-.71-2.14-.71-.633 0-1.266.14-.625.14-1.281.438z\" /></g><g transform=\"translate(0, 110) scale(0.75, 0.75)\" fill=\"#e5e5e5\" stroke=\"#e5e5e5\"><path d=\"M10.137 21.863q-1.063 0-1.688.727-.617.726-.617 1.992 0 1.258.617 1.992.625.727 1.688.727 1.062 0 1.68-.727.624-.734.624-1.992 0-1.266-.625-1.992-.617-.727-1.68-.727zm3.133-4.945v1.437q-.594-.28-1.204-.43-.601-.148-1.195-.148-1.562 0-2.39 1.055-.82 1.055-.938 3.188.46-.68 1.156-1.04.696-.367 1.531-.367 1.758 0 2.774 1.07 1.023 1.063 1.023 2.899 0 1.797-1.062 2.883-1.063 1.086-2.828 1.086-2.024 0-3.094-1.547-1.07-1.555-1.07-4.5 0-2.766 1.312-4.406 1.313-1.649 3.524-1.649.593 0 1.195.117.61.118 1.266.352z\" /></g><g transform=\"translate(375, 110) scale(0.75, 0.75)\" fill=\"#e5e5e5\" stroke=\"#e5e5e5\"><path d=\"M10.137 21.863q-1.063 0-1.688.727-.617.726-.617 1.992 0 1.258.617 1.992.625.727 1.688.727 1.062 0 1.68-.727.624-.734.624-1.992 0-1.266-.625-1.992-.617-.727-1.68-.727zm3.133-4.945v1.437q-.594-.28-1.204-.43-.601-.148-1.195-.148-1.562 0-2.39 1.055-.82 1.055-.938 3.188.46-.68 1.156-1.04.696-.367 1.531-.367 1.758 0 2.774 1.07 1.023 1.063 1.023 2.899 0 1.797-1.062 2.883-1.063 1.086-2.828 1.086-2.024 0-3.094-1.547-1.07-1.555-1.07-4.5 0-2.766 1.312-4.406 1.313-1.649 3.524-1.649.593 0 1.195.117.61.118 1.266.352z\" /></g><g transform=\"translate(0, 65) scale(0.75, 0.75)\" fill=\"#e5e5e5\" stroke=\"#e5e5e5\"><path d=\"M6.25 16.66h7.5v.672L9.516 28.324H7.867l3.985-10.336H6.25z\" /></g><g transform=\"translate(375, 65) scale(0.75, 0.75)\" fill=\"#e5e5e5\" stroke=\"#e5e5e5\"><path d=\"M6.25 16.66h7.5v.672L9.516 28.324H7.867l3.985-10.336H6.25z\" /></g><g transform=\"translate(0, 20) scale(0.75, 0.75)\" fill=\"#e5e5e5\" stroke=\"#e5e5e5\"><path d=\"M10 22.785q-1.125 0-1.773.602-.641.601-.641 1.656t.64 1.656q.649.602 1.774.602t1.773-.602q.649-.61.649-1.656 0-1.055-.649-1.656-.64-.602-1.773-.602zm-1.578-.672q-1.016-.25-1.586-.945-.563-.695-.563-1.695 0-1.399.993-2.211 1-.813 2.734-.813 1.742 0 2.734.813.993.812.993 2.21 0 1-.57 1.696-.563.695-1.571.945 1.14.266 1.773 1.04.641.773.641 1.89 0 1.695-1.04 2.602-1.03.906-2.96.906t-2.969-.906Q6 26.738 6 25.043q0-1.117.64-1.89.641-.774 1.782-1.04zm-.578-2.492q0 .906.562 1.414.57.508 1.594.508 1.016 0 1.586-.508.578-.508.578-1.414 0-.906-.578-1.414-.57-.508-1.586-.508-1.023 0-1.594.508-.562.508-.562 1.414z\" /></g><g transform=\"translate(375, 20) scale(0.75, 0.75)\" fill=\"#e5e5e5\" stroke=\"#e5e5e5\"><path d=\"M10 22.785q-1.125 0-1.773.602-.641.601-.641 1.656t.64 1.656q.649.602 1.774.602t1.773-.602q.649-.61.649-1.656 0-1.055-.649-1.656-.64-.602-1.773-.602zm-1.578-.672q-1.016-.25-1.586-.945-.563-.695-.563-1.695 0-1.399.993-2.211 1-.813 2.734-.813 1.742 0 2.734.813.993.812.993 2.21 0 1-.57 1.696-.563.695-1.571.945 1.14.266 1.773 1.04.641.773.641 1.89 0 1.695-1.04 2.602-1.03.906-2.96.906t-2.969-.906Q6 26.738 6 25.043q0-1.117.64-1.89.641-.774 1.782-1.04zm-.578-2.492q0 .906.562 1.414.57.508 1.594.508 1.016 0 1.586-.508.578-.508.578-1.414 0-.906-.578-1.414-.57-.508-1.586-.508-1.023 0-1.594.508-.562.508-.562 1.414z\" /></g><rect x=\"15\" y=\"330\" width=\"45\" height=\"45\" class=\"square dark a1\" stroke=\"none\" fill=\"#cfcfcf\" /><rect x=\"60\" y=\"330\" width=\"45\" height=\"45\" class=\"square light b1\" stroke=\"none\" fill=\"#f5f5f5\" /><rect x=\"105\" y=\"330\" width=\"45\" height=\"45\" class=\"square dark c1\" stroke=\"none\" fill=\"#cfcfcf\" /><rect x=\"150\" y=\"330\" width=\"45\" height=\"45\" class=\"square light d1\" stroke=\"none\" fill=\"#f5f5f5\" /><rect x=\"195\" y=\"330\" width=\"45\" height=\"45\" class=\"square dark e1\" stroke=\"none\" fill=\"#cfcfcf\" /><rect x=\"240\" y=\"330\" width=\"45\" height=\"45\" class=\"square light f1\" stroke=\"none\" fill=\"#f5f5f5\" /><rect x=\"285\" y=\"330\" width=\"45\" height=\"45\" class=\"square dark g1\" stroke=\"none\" fill=\"#cfcfcf\" /><rect x=\"330\" y=\"330\" width=\"45\" height=\"45\" class=\"square light h1\" stroke=\"none\" fill=\"#f5f5f5\" /><rect x=\"15\" y=\"285\" width=\"45\" height=\"45\" class=\"square light a2\" stroke=\"none\" fill=\"#f5f5f5\" /><rect x=\"60\" y=\"285\" width=\"45\" height=\"45\" class=\"square dark b2\" stroke=\"none\" fill=\"#cfcfcf\" /><rect x=\"105\" y=\"285\" width=\"45\" height=\"45\" class=\"square light c2\" stroke=\"none\" fill=\"#f5f5f5\" /><rect x=\"150\" y=\"285\" width=\"45\" height=\"45\" class=\"square dark d2\" stroke=\"none\" fill=\"#cfcfcf\" /><rect x=\"195\" y=\"285\" width=\"45\" height=\"45\" class=\"square light e2\" stroke=\"none\" fill=\"#f5f5f5\" /><rect x=\"240\" y=\"285\" width=\"45\" height=\"45\" class=\"square dark f2\" stroke=\"none\" fill=\"#cfcfcf\" /><rect x=\"285\" y=\"285\" width=\"45\" height=\"45\" class=\"square light g2\" stroke=\"none\" fill=\"#f5f5f5\" /><rect x=\"330\" y=\"285\" width=\"45\" height=\"45\" class=\"square dark h2\" stroke=\"none\" fill=\"#cfcfcf\" /><rect x=\"15\" y=\"240\" width=\"45\" height=\"45\" class=\"square dark a3\" stroke=\"none\" fill=\"#cfcfcf\" /><rect x=\"60\" y=\"240\" width=\"45\" height=\"45\" class=\"square light b3\" stroke=\"none\" fill=\"#f5f5f5\" /><rect x=\"105\" y=\"240\" width=\"45\" height=\"45\" class=\"square dark c3\" stroke=\"none\" fill=\"#cfcfcf\" /><rect x=\"150\" y=\"240\" width=\"45\" height=\"45\" class=\"square light d3\" stroke=\"none\" fill=\"#f5f5f5\" /><rect x=\"195\" y=\"240\" width=\"45\" height=\"45\" class=\"square dark e3\" stroke=\"none\" fill=\"#cfcfcf\" /><rect x=\"240\" y=\"240\" width=\"45\" height=\"45\" class=\"square light f3\" stroke=\"none\" fill=\"#f5f5f5\" /><rect x=\"285\" y=\"240\" width=\"45\" height=\"45\" class=\"square dark g3\" stroke=\"none\" fill=\"#cfcfcf\" /><rect x=\"330\" y=\"240\" width=\"45\" height=\"45\" class=\"square light h3\" stroke=\"none\" fill=\"#f5f5f5\" /><rect x=\"15\" y=\"195\" width=\"45\" height=\"45\" class=\"square light a4\" stroke=\"none\" fill=\"#f5f5f5\" /><rect x=\"60\" y=\"195\" width=\"45\" height=\"45\" class=\"square dark lastmove b4\" stroke=\"none\" fill=\"#a0a0ff\" /><rect x=\"105\" y=\"195\" width=\"45\" height=\"45\" class=\"square light c4\" stroke=\"none\" fill=\"#f5f5f5\" /><rect x=\"150\" y=\"195\" width=\"45\" height=\"45\" class=\"square dark d4\" stroke=\"none\" fill=\"#cfcfcf\" /><rect x=\"195\" y=\"195\" width=\"45\" height=\"45\" class=\"square light e4\" stroke=\"none\" fill=\"#f5f5f5\" /><rect x=\"240\" y=\"195\" width=\"45\" height=\"45\" class=\"square dark f4\" stroke=\"none\" fill=\"#cfcfcf\" /><rect x=\"285\" y=\"195\" width=\"45\" height=\"45\" class=\"square light g4\" stroke=\"none\" fill=\"#f5f5f5\" /><rect x=\"330\" y=\"195\" width=\"45\" height=\"45\" class=\"square dark h4\" stroke=\"none\" fill=\"#cfcfcf\" /><rect x=\"15\" y=\"150\" width=\"45\" height=\"45\" class=\"square dark a5\" stroke=\"none\" fill=\"#cfcfcf\" /><rect x=\"60\" y=\"150\" width=\"45\" height=\"45\" class=\"square light b5\" stroke=\"none\" fill=\"#f5f5f5\" /><rect x=\"105\" y=\"150\" width=\"45\" height=\"45\" class=\"square dark c5\" stroke=\"none\" fill=\"#cfcfcf\" /><rect x=\"150\" y=\"150\" width=\"45\" height=\"45\" class=\"square light lastmove d5\" stroke=\"none\" fill=\"#cfcfff\" /><rect x=\"195\" y=\"150\" width=\"45\" height=\"45\" class=\"square dark e5\" stroke=\"none\" fill=\"#cfcfcf\" /><rect x=\"240\" y=\"150\" width=\"45\" height=\"45\" class=\"square light f5\" stroke=\"none\" fill=\"#f5f5f5\" /><rect x=\"285\" y=\"150\" width=\"45\" height=\"45\" class=\"square dark g5\" stroke=\"none\" fill=\"#cfcfcf\" /><rect x=\"330\" y=\"150\" width=\"45\" height=\"45\" class=\"square light h5\" stroke=\"none\" fill=\"#f5f5f5\" /><rect x=\"15\" y=\"105\" width=\"45\" height=\"45\" class=\"square light a6\" stroke=\"none\" fill=\"#f5f5f5\" /><rect x=\"60\" y=\"105\" width=\"45\" height=\"45\" class=\"square dark b6\" stroke=\"none\" fill=\"#cfcfcf\" /><rect x=\"105\" y=\"105\" width=\"45\" height=\"45\" class=\"square light c6\" stroke=\"none\" fill=\"#f5f5f5\" /><rect x=\"150\" y=\"105\" width=\"45\" height=\"45\" class=\"square dark d6\" stroke=\"none\" fill=\"#cfcfcf\" /><rect x=\"195\" y=\"105\" width=\"45\" height=\"45\" class=\"square light e6\" stroke=\"none\" fill=\"#f5f5f5\" /><rect x=\"240\" y=\"105\" width=\"45\" height=\"45\" class=\"square dark f6\" stroke=\"none\" fill=\"#cfcfcf\" /><rect x=\"285\" y=\"105\" width=\"45\" height=\"45\" class=\"square light g6\" stroke=\"none\" fill=\"#f5f5f5\" /><rect x=\"330\" y=\"105\" width=\"45\" height=\"45\" class=\"square dark h6\" stroke=\"none\" fill=\"#cfcfcf\" /><rect x=\"15\" y=\"60\" width=\"45\" height=\"45\" class=\"square dark a7\" stroke=\"none\" fill=\"#cfcfcf\" /><rect x=\"60\" y=\"60\" width=\"45\" height=\"45\" class=\"square light b7\" stroke=\"none\" fill=\"#f5f5f5\" /><rect x=\"105\" y=\"60\" width=\"45\" height=\"45\" class=\"square dark c7\" stroke=\"none\" fill=\"#cfcfcf\" /><rect x=\"150\" y=\"60\" width=\"45\" height=\"45\" class=\"square light d7\" stroke=\"none\" fill=\"#f5f5f5\" /><rect x=\"195\" y=\"60\" width=\"45\" height=\"45\" class=\"square dark e7\" stroke=\"none\" fill=\"#cfcfcf\" /><rect x=\"240\" y=\"60\" width=\"45\" height=\"45\" class=\"square light f7\" stroke=\"none\" fill=\"#f5f5f5\" /><rect x=\"285\" y=\"60\" width=\"45\" height=\"45\" class=\"square dark g7\" stroke=\"none\" fill=\"#cfcfcf\" /><rect x=\"330\" y=\"60\" width=\"45\" height=\"45\" class=\"square light h7\" stroke=\"none\" fill=\"#f5f5f5\" /><rect x=\"15\" y=\"15\" width=\"45\" height=\"45\" class=\"square light a8\" stroke=\"none\" fill=\"#f5f5f5\" /><rect x=\"60\" y=\"15\" width=\"45\" height=\"45\" class=\"square dark b8\" stroke=\"none\" fill=\"#cfcfcf\" /><rect x=\"105\" y=\"15\" width=\"45\" height=\"45\" class=\"square light c8\" stroke=\"none\" fill=\"#f5f5f5\" /><rect x=\"150\" y=\"15\" width=\"45\" height=\"45\" class=\"square dark d8\" stroke=\"none\" fill=\"#cfcfcf\" /><rect x=\"195\" y=\"15\" width=\"45\" height=\"45\" class=\"square light e8\" stroke=\"none\" fill=\"#f5f5f5\" /><rect x=\"240\" y=\"15\" width=\"45\" height=\"45\" class=\"square dark f8\" stroke=\"none\" fill=\"#cfcfcf\" /><rect x=\"285\" y=\"15\" width=\"45\" height=\"45\" class=\"square light g8\" stroke=\"none\" fill=\"#f5f5f5\" /><rect x=\"330\" y=\"15\" width=\"45\" height=\"45\" class=\"square dark h8\" stroke=\"none\" fill=\"#cfcfcf\" /><use href=\"#white-rook\" xlink:href=\"#white-rook\" transform=\"translate(105, 330)\" /><use href=\"#white-king\" xlink:href=\"#white-king\" transform=\"translate(285, 330)\" /><use href=\"#white-pawn\" xlink:href=\"#white-pawn\" transform=\"translate(15, 285)\" /><use href=\"#white-pawn\" xlink:href=\"#white-pawn\" transform=\"translate(60, 285)\" /><use href=\"#white-pawn\" xlink:href=\"#white-pawn\" transform=\"translate(240, 285)\" /><use href=\"#white-pawn\" xlink:href=\"#white-pawn\" transform=\"translate(285, 285)\" /><use href=\"#white-pawn\" xlink:href=\"#white-pawn\" transform=\"translate(330, 285)\" /><use href=\"#white-knight\" xlink:href=\"#white-knight\" transform=\"translate(60, 195)\" /><use href=\"#black-pawn\" xlink:href=\"#black-pawn\" transform=\"translate(15, 105)\" /><use href=\"#black-queen\" xlink:href=\"#black-queen\" transform=\"translate(150, 105)\" /><use href=\"#black-pawn\" xlink:href=\"#black-pawn\" transform=\"translate(330, 105)\" /><use href=\"#black-pawn\" xlink:href=\"#black-pawn\" transform=\"translate(60, 60)\" /><use href=\"#white-queen\" xlink:href=\"#white-queen\" transform=\"translate(240, 60)\" /><use href=\"#black-pawn\" xlink:href=\"#black-pawn\" transform=\"translate(285, 60)\" /><use href=\"#black-king\" xlink:href=\"#black-king\" transform=\"translate(60, 15)\" /><use href=\"#black-rook\" xlink:href=\"#black-rook\" transform=\"translate(150, 15)\" /></svg>"
      ],
      "text/plain": [
       "LeelaBoard('1k1r4/1p3Qp1/p2q3p/8/1N6/8/PP3PPP/2R3K1 b - - 0 22')"
      ]
     },
     "execution_count": 14,
     "metadata": {},
     "output_type": "execute_result"
    }
   ],
   "source": [
    "puzzle = sacrifice_puzzles.iloc[1]\n",
    "board = LeelaBoard.from_puzzle(puzzle)\n",
    "board"
   ]
  },
  {
   "cell_type": "markdown",
   "metadata": {},
   "source": [
    "The *principal variation* is the best sequence of moves for both sides:"
   ]
  },
  {
   "cell_type": "code",
   "execution_count": 15,
   "metadata": {},
   "outputs": [
    {
     "data": {
      "text/plain": [
       "['d6d1', 'c1d1', 'd8d1']"
      ]
     },
     "execution_count": 15,
     "metadata": {},
     "output_type": "execute_result"
    }
   ],
   "source": [
    "puzzle.principal_variation"
   ]
  },
  {
   "cell_type": "markdown",
   "metadata": {},
   "source": [
    "Leela solves this puzzle correctly:"
   ]
  },
  {
   "cell_type": "code",
   "execution_count": 16,
   "metadata": {},
   "outputs": [
    {
     "name": "stdout",
     "output_type": "stream",
     "text": [
      "Qd1+: 90.28%\n",
      "a5: 0.97%\n",
      "Qxb4: 0.58%\n",
      "Rd7: 0.48%\n",
      "Ka7: 0.47%\n",
      "W: 63.13%, D: 21.41%, L: 15.47%\n"
     ]
    }
   ],
   "source": [
    "model.pretty_play(board)"
   ]
  },
  {
   "cell_type": "markdown",
   "metadata": {},
   "source": [
    "# Visualizing attention patterns\n",
    "\n",
    "Next, let's look at some attention patterns. These are 64 x 64 arrays, with one entry for each pair of squares."
   ]
  },
  {
   "cell_type": "code",
   "execution_count": 17,
   "metadata": {},
   "outputs": [
    {
     "data": {
      "text/plain": [
       "torch.Size([64, 64])"
      ]
     },
     "execution_count": 17,
     "metadata": {},
     "output_type": "execute_result"
    }
   ],
   "source": [
    "layer = 9\n",
    "head = 5\n",
    "\n",
    "# We're using nnsight to cache activations and do interventions. There's also an interface\n",
    "# based directly on pytorch hooks if you prefer that, see Lc0Model.capturing().\n",
    "with model.trace(board):\n",
    "    attention = model.attention_scores(layer).output[0, head].save()\n",
    "attention.shape"
   ]
  },
  {
   "cell_type": "markdown",
   "metadata": {},
   "source": [
    "We can plot slices of this attention pattern:"
   ]
  },
  {
   "cell_type": "code",
   "execution_count": null,
   "metadata": {},
   "outputs": [],
   "source": [
    "square = \"b3\"\n",
    "# This converts a square in chess notation to the index inside Leela's activations for\n",
    "# that square. Note that the input to Leela is flipped depending on the current player's\n",
    "# color.\n",
    "idx = board.sq2idx(square)\n",
    "# attention has shape (query_dim, key_dim); indexing into the first one gives us a slice\n",
    "# of the attention pattern with fixed query.\n",
    "board.plot(attention[idx], caption=f\"L{layer}H{head} attention with query={square}\")"
   ]
  },
  {
   "cell_type": "markdown",
   "metadata": {},
   "source": [
    "# Attention attribution\n",
    "\n",
    "Let's look at L12H12 instead and do attention attribution (this is basically approximating a zero-ablation of individual attention weights). We'll then plot the entries with the highest attribution scores as arrows from key to query (i.e. in the direction of information flow)."
   ]
  },
  {
   "cell_type": "code",
   "execution_count": 18,
   "metadata": {},
   "outputs": [
    {
     "data": {
      "image/png": "[encoded data removed]",
      "text/plain": [
       "IcebergBoard(board=Board('1k1r4/1p3Qp1/p2q3p/8/1N6/8/PP3PPP/2R3K1 b - - 0 22'), heatmap=None, next_moves=None, highlight=None, caption=None, cmap='YlOrRd', mappable=None, zero_center=False, arrows={'d1f1': '#ff0000cc', 'd1c5': '#ff5050cc', 'c7c1': '#ff9a9acc', 'f1d1': '#ffa6a6cc', 'b4f1': '#ffbebecc'}, attn_map=None, show_lastmove=True)"
      ]
     },
     "execution_count": 18,
     "metadata": {},
     "output_type": "execute_result"
    }
   ],
   "source": [
    "attribution = attention_attribution(\n",
    "    [board], layer=12, head=12, model=model, return_pt=True\n",
    ")[0]\n",
    "values, colors = top_k_attributions(attribution, board, k=5)\n",
    "board.plot(arrows=colors)"
   ]
  },
  {
   "cell_type": "code",
   "execution_count": null,
   "metadata": {},
   "outputs": [],
   "source": [
    "query_square = puzzle.principal_variation[0][2:4]\n",
    "key_square = puzzle.principal_variation[2][2:4]\n",
    "query_idx = board.sq2idx(query_square)\n",
    "key_idx = board.sq2idx(key_square)\n",
    "\n",
    "with model.trace(board):\n",
    "    model.attention_scores(12).output[0, 12, query_idx, key_idx] = 0\n",
    "    output = model.output.save()\n",
    "\n",
    "probs = model.logits_to_probs(board, output[0])[0]\n",
    "policy = model.top_moves(board, probs, top_k=5)\n",
    "print(policy)\n",
    "print(\"WDL:\", output[1])"
   ]
  },
  {
   "cell_type": "markdown",
   "metadata": {},
   "source": [
    "The previous top move, Ng6, is now in 4th place at only 16%. Leela also thinks it's worse (the win probability is down to 9.9% from 28.7%)."
   ]
  },
  {
   "cell_type": "markdown",
   "metadata": {},
   "source": [
    "# Activation patching\n",
    "\n",
    "Finally, let's do activation patching. Every puzzle in our dataset already has a \"corrupted version\" that we automatically generated. This is a very similar board position, but with a slight difference that makes the tactic no longer work. Note the new pawn on h6:"
   ]
  },
  {
   "cell_type": "code",
   "execution_count": null,
   "metadata": {},
   "outputs": [],
   "source": [
    "corrupted_board = LeelaBoard.from_fen(puzzle.corrupted_fen)\n",
    "display(corrupted_board)\n",
    "model.pretty_play(corrupted_board)"
   ]
  },
  {
   "cell_type": "markdown",
   "metadata": {},
   "source": [
    "We could implement activation patching fairly easily with `nnsight`, but we'll instead introduce our patching helper function. Let's patch the output of L12H12 on every square:"
   ]
  },
  {
   "cell_type": "code",
   "execution_count": null,
   "metadata": {},
   "outputs": [],
   "source": [
    "log_odds_reductions = -activation_patch(\n",
    "    module_func=model.headwise_attention_output,\n",
    "    # Layer, head, output square:\n",
    "    locations=list(itertools.product([12], [12], range(64))),\n",
    "    model=model,\n",
    "    # We could also pass in board and corrupted_board manually instead\n",
    "    puzzles=puzzle,\n",
    ")\n",
    "log_odds_reductions.shape"
   ]
  },
  {
   "cell_type": "code",
   "execution_count": null,
   "metadata": {},
   "outputs": [],
   "source": [
    "board.plot(log_odds_reductions, caption=\"Log odds reduction for each square\")"
   ]
  },
  {
   "cell_type": "markdown",
   "metadata": {},
   "source": [
    "As we can see, activation patching essentially only has a big effect on g6, where L12H12 moved information to from h4."
   ]
  },
  {
   "cell_type": "markdown",
   "metadata": {},
   "source": [
    "# Next steps\n",
    "We demonstrated how to use several mechanistic interpretability techniques on a single board position. It's fairly straightforward to extend these to batches of positions, see the files in `scripts` for examples. `nnsight` also makes it quite easy to use other interpretability techniques that we didn't cover here."
   ]
  },
  {
   "cell_type": "code",
   "execution_count": null,
   "metadata": {},
   "outputs": [],
   "source": []
  }
 ],
 "metadata": {
  "kernelspec": {
   "display_name": "Python 3 (ipykernel)",
   "language": "python",
   "name": "python3"
  },
  "language_info": {
   "codemirror_mode": {
    "name": "ipython",
    "version": 3
   },
   "file_extension": ".py",
   "mimetype": "text/x-python",
   "name": "python",
   "nbconvert_exporter": "python",
   "pygments_lexer": "ipython3",
   "version": "3.11.4"
  }
 },
 "nbformat": 4,
 "nbformat_minor": 4
}
